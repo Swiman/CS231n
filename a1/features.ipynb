{
 "cells": [
  {
   "cell_type": "code",
   "execution_count": 1,
   "metadata": {},
   "outputs": [],
   "source": [
    "import numpy as np\n",
    "import matplotlib.pyplot as plt\n",
    "from features import *\n",
    "import neural_net\n",
    "%load_ext autoreload\n",
    "%autoreload 2\n",
    "import load_cifar\n",
    "\n",
    "dataset_dir = 'F:\\ML\\Winter-2016-CS231N-master\\Assignment1\\cs231n\\datasets\\cifar-10-batches-py'"
   ]
  },
  {
   "cell_type": "code",
   "execution_count": 2,
   "metadata": {},
   "outputs": [],
   "source": [
    "Xtr,ytr,Xte,yte = load_cifar.load(dataset_dir)"
   ]
  },
  {
   "cell_type": "code",
   "execution_count": 3,
   "metadata": {},
   "outputs": [],
   "source": [
    "Xvl , yvl = Xtr[49000:],ytr[49000:]\n",
    "Xte , yte = Xte[:1000],yte[:1000]\n",
    "Xtr , ytr = Xtr[:49000],ytr[:49000]"
   ]
  },
  {
   "cell_type": "code",
   "execution_count": 4,
   "metadata": {},
   "outputs": [
    {
     "name": "stdout",
     "output_type": "stream",
     "text": [
      "Done extracting features for 1000 / 49000 images\n",
      "Done extracting features for 2000 / 49000 images\n",
      "Done extracting features for 3000 / 49000 images\n",
      "Done extracting features for 4000 / 49000 images\n",
      "Done extracting features for 5000 / 49000 images\n",
      "Done extracting features for 6000 / 49000 images\n",
      "Done extracting features for 7000 / 49000 images\n",
      "Done extracting features for 8000 / 49000 images\n",
      "Done extracting features for 9000 / 49000 images\n",
      "Done extracting features for 10000 / 49000 images\n",
      "Done extracting features for 11000 / 49000 images\n",
      "Done extracting features for 12000 / 49000 images\n",
      "Done extracting features for 13000 / 49000 images\n",
      "Done extracting features for 14000 / 49000 images\n",
      "Done extracting features for 15000 / 49000 images\n",
      "Done extracting features for 16000 / 49000 images\n",
      "Done extracting features for 17000 / 49000 images\n",
      "Done extracting features for 18000 / 49000 images\n",
      "Done extracting features for 19000 / 49000 images\n",
      "Done extracting features for 20000 / 49000 images\n",
      "Done extracting features for 21000 / 49000 images\n",
      "Done extracting features for 22000 / 49000 images\n",
      "Done extracting features for 23000 / 49000 images\n",
      "Done extracting features for 24000 / 49000 images\n",
      "Done extracting features for 25000 / 49000 images\n",
      "Done extracting features for 26000 / 49000 images\n",
      "Done extracting features for 27000 / 49000 images\n",
      "Done extracting features for 28000 / 49000 images\n",
      "Done extracting features for 29000 / 49000 images\n",
      "Done extracting features for 30000 / 49000 images\n",
      "Done extracting features for 31000 / 49000 images\n",
      "Done extracting features for 32000 / 49000 images\n",
      "Done extracting features for 33000 / 49000 images\n",
      "Done extracting features for 34000 / 49000 images\n",
      "Done extracting features for 35000 / 49000 images\n",
      "Done extracting features for 36000 / 49000 images\n",
      "Done extracting features for 37000 / 49000 images\n",
      "Done extracting features for 38000 / 49000 images\n",
      "Done extracting features for 39000 / 49000 images\n",
      "Done extracting features for 40000 / 49000 images\n",
      "Done extracting features for 41000 / 49000 images\n",
      "Done extracting features for 42000 / 49000 images\n",
      "Done extracting features for 43000 / 49000 images\n",
      "Done extracting features for 44000 / 49000 images\n",
      "Done extracting features for 45000 / 49000 images\n",
      "Done extracting features for 46000 / 49000 images\n",
      "Done extracting features for 47000 / 49000 images\n",
      "Done extracting features for 48000 / 49000 images\n"
     ]
    }
   ],
   "source": [
    "num_color_bins = 10 # Number of bins in the color histogram\n",
    "feature_fns = [hog_feature, lambda img: color_histogram_hsv(img, nbin=num_color_bins)]\n",
    "X_train_feats = extract_features(Xtr, feature_fns, verbose=True)\n",
    "X_val_feats = extract_features(Xvl, feature_fns)\n",
    "X_test_feats = extract_features(Xte, feature_fns)\n",
    "\n",
    "# Preprocessing: Subtract the mean feature\n",
    "mean_feat = np.mean(X_train_feats, axis=0, keepdims=True)\n",
    "X_train_feats -= mean_feat\n",
    "X_val_feats -= mean_feat\n",
    "X_test_feats -= mean_feat\n",
    "\n",
    "# Preprocessing: Divide by standard deviation. This ensures that each feature\n",
    "# has roughly the same scale.\n",
    "std_feat = np.std(X_train_feats, axis=0, keepdims=True)\n",
    "X_train_feats /= std_feat\n",
    "X_val_feats /= std_feat\n",
    "X_test_feats /= std_feat\n",
    "\n",
    "# Preprocessing: Add a bias dimension\n",
    "X_train_feats = np.hstack([X_train_feats, np.ones((X_train_feats.shape[0], 1))])\n",
    "X_val_feats = np.hstack([X_val_feats, np.ones((X_val_feats.shape[0], 1))])\n",
    "X_test_feats = np.hstack([X_test_feats, np.ones((X_test_feats.shape[0], 1))])"
   ]
  },
  {
   "cell_type": "code",
   "execution_count": 5,
   "metadata": {},
   "outputs": [
    {
     "data": {
      "text/plain": [
       "(49000, 155)"
      ]
     },
     "execution_count": 5,
     "metadata": {},
     "output_type": "execute_result"
    }
   ],
   "source": [
    "X_train_feats.shape"
   ]
  },
  {
   "cell_type": "code",
   "execution_count": 5,
   "metadata": {},
   "outputs": [],
   "source": [
    "import svm\n",
    "max_count = 100\n",
    "lrs = []\n",
    "landas = []\n",
    "for i in range(max_count): \n",
    "    lrs.append(10**np.random.uniform(-3,3))\n",
    "    landas.append(10**np.random.uniform(-5,5))"
   ]
  },
  {
   "cell_type": "code",
   "execution_count": 6,
   "metadata": {},
   "outputs": [
    {
     "name": "stdout",
     "output_type": "stream",
     "text": [
      "tr_acc:0.397347 vl_acc:0.396000 landa:0.067042 lr:0.003773\n",
      "tr_acc:0.397020 vl_acc:0.396000 landa:0.012084 lr:0.003303\n",
      "tr_acc:0.396388 vl_acc:0.397000 landa:0.384310 lr:0.001335\n",
      "tr_acc:0.389000 vl_acc:0.382000 landa:0.054324 lr:0.743551\n",
      "tr_acc:0.396592 vl_acc:0.396000 landa:0.122714 lr:0.002997\n",
      "tr_acc:0.435551 vl_acc:0.432000 landa:0.005039 lr:0.016469\n",
      "tr_acc:0.412000 vl_acc:0.390000 landa:0.183392 lr:0.291315\n",
      "tr_acc:0.396327 vl_acc:0.399000 landa:0.466736 lr:0.001158\n",
      "tr_acc:0.435816 vl_acc:0.423000 landa:0.001233 lr:0.155613\n",
      "tr_acc:0.433592 vl_acc:0.415000 landa:0.003908 lr:0.164115\n",
      "tr_acc:0.442388 vl_acc:0.430000 landa:0.040065 lr:0.119491\n",
      "tr_acc:0.402878 vl_acc:0.404000 landa:0.002627 lr:0.004967\n",
      "tr_acc:0.450286 vl_acc:0.438000 landa:0.001670 lr:0.052939\n",
      "tr_acc:0.444020 vl_acc:0.424000 landa:0.002187 lr:0.100715\n",
      "tr_acc:0.429163 vl_acc:0.401000 landa:0.003621 lr:0.206372\n",
      "tr_acc:0.345551 vl_acc:0.324000 landa:0.624879 lr:0.380855\n",
      "tr_acc:0.431959 vl_acc:0.400000 landa:0.007023 lr:0.193643\n",
      "tr_acc:0.396653 vl_acc:0.393000 landa:0.005158 lr:0.003119\n",
      "tr_acc:0.447204 vl_acc:0.429000 landa:0.016756 lr:0.075929\n",
      "tr_acc:0.387408 vl_acc:0.382000 landa:0.214452 lr:0.421136\n",
      "tr_acc:0.450265 vl_acc:0.437000 landa:0.039258 lr:0.053605\n",
      "tr_acc:0.410735 vl_acc:0.413000 landa:0.001241 lr:0.006582\n",
      "tr_acc:0.431796 vl_acc:0.397000 landa:0.018044 lr:0.198500\n",
      "tr_acc:0.448633 vl_acc:0.433000 landa:0.885016 lr:0.047433\n",
      "tr_acc:0.428306 vl_acc:0.405000 landa:0.003909 lr:0.220394\n",
      "tr_acc:0.445061 vl_acc:0.427000 landa:0.010827 lr:0.088650\n",
      "tr_acc:0.428551 vl_acc:0.425000 landa:0.002786 lr:0.012903\n",
      "tr_acc:0.443102 vl_acc:0.434000 landa:0.441343 lr:0.084199\n",
      "tr_acc:0.396245 vl_acc:0.394000 landa:0.001964 lr:0.002282\n",
      "tr_acc:0.445000 vl_acc:0.441000 landa:0.035160 lr:0.025780\n",
      "tr_acc:0.396449 vl_acc:0.397000 landa:0.002298 lr:0.001377\n",
      "tr_acc:0.445408 vl_acc:0.441000 landa:0.023779 lr:0.027191\n",
      "tr_acc:0.395673 vl_acc:0.382000 landa:0.229864 lr:0.371919\n",
      "tr_acc:0.439959 vl_acc:0.428000 landa:0.176215 lr:0.115444\n",
      "tr_acc:0.396306 vl_acc:0.395000 landa:0.789456 lr:0.002494\n",
      "tr_acc:0.450939 vl_acc:0.430000 landa:0.125890 lr:0.045187\n",
      "tr_acc:0.396408 vl_acc:0.398000 landa:0.002927 lr:0.001306\n",
      "tr_acc:0.450980 vl_acc:0.437000 landa:0.017999 lr:0.044187\n",
      "tr_acc:0.433429 vl_acc:0.411000 landa:0.017150 lr:0.171785\n",
      "tr_acc:0.443122 vl_acc:0.429000 landa:0.047945 lr:0.100233\n",
      "tr_acc:0.396367 vl_acc:0.394000 landa:0.028860 lr:0.002686\n",
      "tr_acc:0.447061 vl_acc:0.431000 landa:0.033538 lr:0.073954\n",
      "tr_acc:0.397184 vl_acc:0.396000 landa:0.324687 lr:0.003529\n",
      "tr_acc:0.411796 vl_acc:0.412000 landa:0.047154 lr:0.006882\n",
      "tr_acc:0.450918 vl_acc:0.430000 landa:0.096820 lr:0.045334\n",
      "tr_acc:0.414898 vl_acc:0.386000 landa:0.003662 lr:0.406289\n",
      "tr_acc:0.447347 vl_acc:0.443000 landa:0.023457 lr:0.030451\n",
      "tr_acc:0.437571 vl_acc:0.438000 landa:0.543349 lr:0.018079\n",
      "tr_acc:0.396327 vl_acc:0.398000 landa:0.013036 lr:0.001296\n",
      "tr_acc:0.422000 vl_acc:0.416000 landa:0.279887 lr:0.010334\n",
      "tr_acc:0.435122 vl_acc:0.430000 landa:0.013066 lr:0.016268\n",
      "tr_acc:0.446571 vl_acc:0.440000 landa:0.863302 lr:0.030038\n",
      "tr_acc:0.435837 vl_acc:0.433000 landa:0.001487 lr:0.016841\n",
      "tr_acc:0.447143 vl_acc:0.432000 landa:0.001367 lr:0.078337\n",
      "tr_acc:0.396265 vl_acc:0.395000 landa:0.007678 lr:0.002177\n",
      "tr_acc:0.394510 vl_acc:0.389000 landa:0.091713 lr:0.513725\n",
      "tr_acc:0.417122 vl_acc:0.412000 landa:0.057084 lr:0.008777\n",
      "tr_acc:0.451367 vl_acc:0.433000 landa:0.037203 lr:0.047243\n",
      "tr_acc:0.437571 vl_acc:0.436000 landa:0.121709 lr:0.018189\n",
      "tr_acc:0.396449 vl_acc:0.394000 landa:0.033169 lr:0.002602\n",
      "tr_acc:0.429490 vl_acc:0.430000 landa:0.411366 lr:0.013466\n",
      "tr_acc:0.396408 vl_acc:0.394000 landa:0.006067 lr:0.002641\n",
      "tr_acc:0.448306 vl_acc:0.444000 landa:0.001720 lr:0.032528\n",
      "tr_acc:0.421796 vl_acc:0.416000 landa:0.001321 lr:0.010319\n",
      "tr_acc:0.259898 vl_acc:0.279000 landa:0.741242 lr:0.666660\n",
      "tr_acc:0.425102 vl_acc:0.400000 landa:0.046265 lr:0.240583\n",
      "tr_acc:0.441633 vl_acc:0.423000 landa:0.006629 lr:0.119734\n",
      "tr_acc:0.440061 vl_acc:0.436000 landa:0.023177 lr:0.020194\n",
      "tr_acc:0.430020 vl_acc:0.436000 landa:0.707824 lr:0.013922\n",
      "tr_acc:0.396388 vl_acc:0.395000 landa:0.172182 lr:0.002474\n",
      "tr_acc:0.404388 vl_acc:0.376000 landa:0.005763 lr:0.687686\n",
      "tr_acc:0.421327 vl_acc:0.416000 landa:0.001991 lr:0.010262\n",
      "tr_acc:0.396449 vl_acc:0.397000 landa:0.005677 lr:0.001563\n",
      "tr_acc:0.432429 vl_acc:0.418000 landa:0.282283 lr:0.154235\n",
      "tr_acc:0.441816 vl_acc:0.436000 landa:0.900432 lr:0.021893\n",
      "tr_acc:0.405327 vl_acc:0.404000 landa:0.001409 lr:0.005464\n",
      "tr_acc:0.396286 vl_acc:0.396000 landa:0.020049 lr:0.001858\n",
      "tr_acc:0.421224 vl_acc:0.388000 landa:0.007384 lr:0.316848\n",
      "tr_acc:0.414408 vl_acc:0.412000 landa:0.407580 lr:0.007776\n",
      "tr_acc:0.371469 vl_acc:0.356000 landa:0.226309 lr:0.546003\n",
      "tr_acc:0.420714 vl_acc:0.426000 landa:0.472732 lr:0.180262\n",
      "tr_acc:0.449347 vl_acc:0.438000 landa:0.006348 lr:0.040360\n",
      "tr_acc:0.431204 vl_acc:0.412000 landa:0.094916 lr:0.174591\n",
      "tr_acc:0.445143 vl_acc:0.440000 landa:0.007261 lr:0.025206\n",
      "tr_acc:0.441776 vl_acc:0.431000 landa:0.001172 lr:0.124625\n",
      "tr_acc:0.433755 vl_acc:0.406000 landa:0.002084 lr:0.177493\n",
      "tr_acc:0.396408 vl_acc:0.395000 landa:0.112988 lr:0.002446\n",
      "tr_acc:0.417551 vl_acc:0.390000 landa:0.001996 lr:0.373815\n",
      "tr_acc:0.440204 vl_acc:0.440000 landa:0.004259 lr:0.020574\n",
      "tr_acc:0.428898 vl_acc:0.408000 landa:0.104334 lr:0.188491\n",
      "tr_acc:0.426816 vl_acc:0.402000 landa:0.022982 lr:0.218617\n",
      "tr_acc:0.446939 vl_acc:0.443000 landa:0.045703 lr:0.029112\n",
      "tr_acc:0.396286 vl_acc:0.395000 landa:0.014083 lr:0.002185\n",
      "tr_acc:0.438102 vl_acc:0.422000 landa:0.023874 lr:0.139713\n",
      "tr_acc:0.445143 vl_acc:0.442000 landa:0.086664 lr:0.025354\n",
      "tr_acc:0.424673 vl_acc:0.408000 landa:0.171761 lr:0.204056\n",
      "tr_acc:0.445306 vl_acc:0.443000 landa:0.151929 lr:0.028167\n",
      "tr_acc:0.448102 vl_acc:0.437000 landa:0.586507 lr:0.032934\n",
      "tr_acc:0.448959 vl_acc:0.446000 landa:0.143722 lr:0.037257\n",
      "tr_acc:0.413510 vl_acc:0.412000 landa:0.005102 lr:0.007512\n",
      "tr_acc:0.372408 vl_acc:0.355000 landa:0.207731 lr:0.537551\n",
      "tr_acc:0.404980 vl_acc:0.403000 landa:0.041036 lr:0.005339\n",
      "tr_acc:0.396714 vl_acc:0.395000 landa:0.619786 lr:0.003116\n",
      "tr_acc:0.450163 vl_acc:0.430000 landa:0.408422 lr:0.051525\n",
      "tr_acc:0.412061 vl_acc:0.414000 landa:0.002565 lr:0.007078\n",
      "tr_acc:0.403816 vl_acc:0.404000 landa:0.007170 lr:0.005198\n",
      "tr_acc:0.396265 vl_acc:0.396000 landa:0.835433 lr:0.001913\n",
      "tr_acc:0.382020 vl_acc:0.370000 landa:0.144442 lr:0.523242\n",
      "tr_acc:0.448367 vl_acc:0.435000 landa:0.019651 lr:0.063841\n",
      "tr_acc:0.300653 vl_acc:0.312000 landa:0.403432 lr:0.729521\n",
      "tr_acc:0.397980 vl_acc:0.396000 landa:0.437313 lr:0.295200\n",
      "tr_acc:0.396347 vl_acc:0.399000 landa:0.006011 lr:0.001193\n",
      "tr_acc:0.416898 vl_acc:0.412000 landa:0.007778 lr:0.008681\n",
      "tr_acc:0.439490 vl_acc:0.423000 landa:0.008468 lr:0.135129\n",
      "tr_acc:0.396408 vl_acc:0.396000 landa:0.001792 lr:0.001668\n",
      "tr_acc:0.411796 vl_acc:0.412000 landa:0.116570 lr:0.006910\n",
      "tr_acc:0.396388 vl_acc:0.396000 landa:0.003623 lr:0.001704\n",
      "tr_acc:0.424510 vl_acc:0.425000 landa:0.001796 lr:0.011553\n",
      "tr_acc:0.402592 vl_acc:0.384000 landa:0.001333 lr:0.965977\n",
      "tr_acc:0.396327 vl_acc:0.396000 landa:0.001212 lr:0.001925\n",
      "tr_acc:0.435653 vl_acc:0.433000 landa:0.009501 lr:0.016669\n",
      "tr_acc:0.415959 vl_acc:0.384000 landa:0.018540 lr:0.368929\n",
      "tr_acc:0.435347 vl_acc:0.431000 landa:0.041093 lr:0.016346\n",
      "tr_acc:0.423776 vl_acc:0.396000 landa:0.030291 lr:0.292940\n",
      "tr_acc:0.396653 vl_acc:0.393000 landa:0.129744 lr:0.003075\n",
      "tr_acc:0.396265 vl_acc:0.395000 landa:0.001162 lr:0.002154\n",
      "tr_acc:0.451061 vl_acc:0.436000 landa:0.002746 lr:0.047497\n",
      "tr_acc:0.449857 vl_acc:0.436000 landa:0.001198 lr:0.057847\n",
      "tr_acc:0.436653 vl_acc:0.437000 landa:0.003528 lr:0.017917\n",
      "tr_acc:0.367449 vl_acc:0.345000 landa:0.190467 lr:0.608437\n",
      "tr_acc:0.439959 vl_acc:0.429000 landa:0.007368 lr:0.130201\n",
      "tr_acc:0.396347 vl_acc:0.396000 landa:0.001452 lr:0.001767\n",
      "tr_acc:0.446490 vl_acc:0.442000 landa:0.620738 lr:0.026756\n",
      "tr_acc:0.395204 vl_acc:0.393000 landa:0.925616 lr:0.221492\n",
      "tr_acc:0.404204 vl_acc:0.403000 landa:0.601026 lr:0.005304\n",
      "tr_acc:0.445429 vl_acc:0.445000 landa:0.001516 lr:0.027189\n",
      "tr_acc:0.444959 vl_acc:0.444000 landa:0.020114 lr:0.024620\n",
      "tr_acc:0.433469 vl_acc:0.412000 landa:0.012927 lr:0.161099\n",
      "tr_acc:0.445531 vl_acc:0.429000 landa:0.003549 lr:0.089817\n",
      "tr_acc:0.429020 vl_acc:0.424000 landa:0.001681 lr:0.013153\n",
      "tr_acc:0.396347 vl_acc:0.396000 landa:0.003001 lr:0.002027\n",
      "tr_acc:0.430388 vl_acc:0.423000 landa:0.447435 lr:0.143849\n",
      "tr_acc:0.444980 vl_acc:0.442000 landa:0.001808 lr:0.025582\n",
      "tr_acc:0.396388 vl_acc:0.398000 landa:0.037058 lr:0.001318\n",
      "tr_acc:0.445224 vl_acc:0.444000 landa:0.013699 lr:0.027565\n",
      "tr_acc:0.431020 vl_acc:0.429000 landa:0.004889 lr:0.014277\n",
      "tr_acc:0.396265 vl_acc:0.396000 landa:0.006661 lr:0.002092\n",
      "tr_acc:0.402878 vl_acc:0.385000 landa:0.102695 lr:0.464971\n",
      "tr_acc:0.410776 vl_acc:0.413000 landa:0.022388 lr:0.006552\n",
      "tr_acc:0.447204 vl_acc:0.429000 landa:0.003654 lr:0.075897\n",
      "tr_acc:0.438082 vl_acc:0.424000 landa:0.066131 lr:0.134710\n",
      "tr_acc:0.446551 vl_acc:0.428000 landa:0.017788 lr:0.080006\n",
      "tr_acc:0.438898 vl_acc:0.428000 landa:0.504850 lr:0.103571\n",
      "tr_acc:0.434776 vl_acc:0.415000 landa:0.002321 lr:0.169193\n",
      "tr_acc:0.445163 vl_acc:0.447000 landa:0.001045 lr:0.026672\n",
      "tr_acc:0.415388 vl_acc:0.419000 landa:0.798571 lr:0.169031\n",
      "tr_acc:0.416347 vl_acc:0.382000 landa:0.005075 lr:0.399256\n",
      "tr_acc:0.416571 vl_acc:0.413000 landa:0.098006 lr:0.008597\n",
      "tr_acc:0.410245 vl_acc:0.415000 landa:0.582179 lr:0.209867\n",
      "tr_acc:0.429347 vl_acc:0.431000 landa:0.005538 lr:0.013664\n",
      "tr_acc:0.441633 vl_acc:0.437000 landa:0.933591 lr:0.021324\n",
      "tr_acc:0.402000 vl_acc:0.402000 landa:0.077724 lr:0.004702\n",
      "tr_acc:0.272224 vl_acc:0.280000 landa:0.680373 lr:0.950029\n",
      "tr_acc:0.397388 vl_acc:0.397000 landa:0.002468 lr:0.003566\n",
      "tr_acc:0.449000 vl_acc:0.435000 landa:0.033852 lr:0.055940\n",
      "tr_acc:0.396429 vl_acc:0.397000 landa:0.003256 lr:0.001362\n",
      "tr_acc:0.417939 vl_acc:0.410000 landa:0.108877 lr:0.009134\n",
      "tr_acc:0.401286 vl_acc:0.388000 landa:0.001018 lr:0.875772\n",
      "tr_acc:0.396449 vl_acc:0.397000 landa:0.024821 lr:0.001513\n",
      "tr_acc:0.427510 vl_acc:0.399000 landa:0.004361 lr:0.211597\n",
      "tr_acc:0.425959 vl_acc:0.394000 landa:0.017830 lr:0.244098\n",
      "tr_acc:0.407816 vl_acc:0.405000 landa:0.005731 lr:0.006102\n",
      "tr_acc:0.405633 vl_acc:0.383000 landa:0.002873 lr:0.640736\n",
      "tr_acc:0.449469 vl_acc:0.439000 landa:0.085593 lr:0.039993\n",
      "tr_acc:0.423388 vl_acc:0.403000 landa:0.013787 lr:0.289157\n",
      "tr_acc:0.390490 vl_acc:0.386000 landa:0.132770 lr:0.494339\n",
      "tr_acc:0.437102 vl_acc:0.434000 landa:0.002594 lr:0.018392\n",
      "tr_acc:0.448796 vl_acc:0.444000 landa:0.022603 lr:0.032709\n",
      "tr_acc:0.421612 vl_acc:0.397000 landa:0.121563 lr:0.228468\n",
      "tr_acc:0.396327 vl_acc:0.396000 landa:0.274604 lr:0.001961\n",
      "tr_acc:0.442224 vl_acc:0.418000 landa:0.010011 lr:0.112802\n",
      "tr_acc:0.411714 vl_acc:0.382000 landa:0.058959 lr:0.388606\n",
      "tr_acc:0.396306 vl_acc:0.395000 landa:0.001886 lr:0.002435\n",
      "tr_acc:0.400122 vl_acc:0.399000 landa:0.525523 lr:0.004430\n",
      "tr_acc:0.410265 vl_acc:0.412000 landa:0.001230 lr:0.006480\n",
      "tr_acc:0.218020 vl_acc:0.238000 landa:0.823990 lr:0.942917\n",
      "tr_acc:0.396347 vl_acc:0.396000 landa:0.038370 lr:0.001950\n",
      "tr_acc:0.429367 vl_acc:0.432000 landa:0.004110 lr:0.013591\n",
      "tr_acc:0.437531 vl_acc:0.437000 landa:0.001381 lr:0.018522\n",
      "tr_acc:0.446122 vl_acc:0.441000 landa:0.038508 lr:0.028565\n",
      "tr_acc:0.396592 vl_acc:0.393000 landa:0.001313 lr:0.003042\n",
      "tr_acc:0.402306 vl_acc:0.401000 landa:0.285502 lr:0.004810\n",
      "tr_acc:0.444918 vl_acc:0.423000 landa:0.073485 lr:0.091374\n",
      "tr_acc:0.400224 vl_acc:0.398000 landa:0.019512 lr:0.004404\n",
      "tr_acc:0.399367 vl_acc:0.399000 landa:0.587873 lr:0.004273\n",
      "tr_acc:0.425531 vl_acc:0.394000 landa:0.001127 lr:0.251685\n",
      "tr_acc:0.422694 vl_acc:0.419000 landa:0.001077 lr:0.010567\n",
      "tr_acc:0.432776 vl_acc:0.405000 landa:0.001782 lr:0.187874\n",
      "tr_acc:0.449612 vl_acc:0.437000 landa:0.349069 lr:0.042071\n",
      "tr_acc:0.399184 vl_acc:0.399000 landa:0.178763 lr:0.004254\n"
     ]
    }
   ],
   "source": [
    "for j in range(max_count):\n",
    "    W, loss, tr_acc = svm.train(X_train_feats,ytr,200,landas[j],lrs[j],10)\n",
    "    vl_acc = svm.predict(X_val_feats,yvl,W)\n",
    "    print('tr_acc:%f vl_acc:%f landa:%f lr:%f'%(tr_acc[-1],vl_acc,landas[j],lrs[j]))\n",
    "    "
   ]
  },
  {
   "cell_type": "code",
   "execution_count": 22,
   "metadata": {},
   "outputs": [
    {
     "data": {
      "image/png": "[encoded data removed]",
      "text/plain": [
       "<Figure size 432x288 with 2 Axes>"
      ]
     },
     "metadata": {
      "needs_background": "light"
     },
     "output_type": "display_data"
    }
   ],
   "source": [
    "import svm\n",
    "W, loss_hist, tr_acc_hist = svm.train(X_train_feats,ytr,200,4e-3,3e-4,1500) #8e-3\n",
    "vl_acc = svm.predict(X_val_feats,yvl,W)\n",
    "#print('tr_acc:%f vl_acc:%f landa:%f lr:%f loss:%f '%(tr_acc,vl_acc,landas[j],lrs[j],loss))\n",
    "plt.subplot(131)\n",
    "plt.title('loss_hist')\n",
    "plt.plot(loss_hist)\n",
    "plt.subplot(133)\n",
    "plt.title('acc_hist')\n",
    "plt.plot(tr_acc_hist)\n",
    "plt.show()"
   ]
  },
  {
   "cell_type": "code",
   "execution_count": 24,
   "metadata": {},
   "outputs": [
    {
     "data": {
      "text/plain": [
       "0.473"
      ]
     },
     "execution_count": 24,
     "metadata": {},
     "output_type": "execute_result"
    }
   ],
   "source": [
    "svm.predict(X_test_feats,yte,W)"
   ]
  },
  {
   "cell_type": "code",
   "execution_count": 6,
   "metadata": {},
   "outputs": [
    {
     "name": "stdout",
     "output_type": "stream",
     "text": [
      "99,loss:0.009426   tr:1.000000    vl:0.240000\n",
      "199,loss:0.010545   tr:1.000000    vl:0.240000\n"
     ]
    },
    {
     "data": {
      "image/png": "[encoded data removed]",
      "text/plain": [
       "<Figure size 432x288 with 1 Axes>"
      ]
     },
     "metadata": {
      "needs_background": "light"
     },
     "output_type": "display_data"
    }
   ],
   "source": [
    "#train(self,Xtr,ytr,Xvl,yvl,lr=1e-3,lr_decay=0.95,landa=1e-5,num_iters=100,batch_size=200,)\n",
    "nn = neural_net.TwoLayerNet(X_train_feats.shape[1],500,10,1e-2)\n",
    "stats = nn.train(X_train_feats[:50],ytr[:50],X_val_feats[:50],yvl[:50],1.2,0.95,8e-5,200,30) # 4e-2_1  1.2e-1_1e-2\n",
    "\n",
    "\n",
    "#plt.subplot(121)\n",
    "#plt.plot(stats[\"tr_acc_hist\"])\n",
    "plt.subplot(121)\n",
    "plt.plot(stats[\"loss_hist\"])\n",
    "plt.show()"
   ]
  },
  {
   "cell_type": "code",
   "execution_count": 67,
   "metadata": {},
   "outputs": [
    {
     "data": {
      "text/plain": [
       "0.005581351736545423"
      ]
     },
     "execution_count": 67,
     "metadata": {},
     "output_type": "execute_result"
    }
   ],
   "source": [
    "np.random.lognormal(1,4)"
   ]
  },
  {
   "cell_type": "code",
   "execution_count": 83,
   "metadata": {},
   "outputs": [],
   "source": [
    "max_count = 10\n",
    "lrs = []\n",
    "landas = []\n",
    "for i in range(max_count): \n",
    "    lrs.append(10**np.random.uniform(-1,1))\n",
    "    landas.append(10**np.random.uniform(-2,-6))"
   ]
  },
  {
   "cell_type": "code",
   "execution_count": 84,
   "metadata": {},
   "outputs": [
    {
     "name": "stdout",
     "output_type": "stream",
     "text": [
      "0 ,loss:1.482740   landa:0.000101   tr_acc:0.496531   vl_acc:0.492000   lr:3.366970\n",
      "1 ,loss:1.558536   landa:0.000027   tr_acc:0.482041   vl_acc:0.471000   lr:6.673441\n",
      "2 ,loss:1.898192   landa:0.000044   tr_acc:0.383408   vl_acc:0.389000   lr:0.809150\n",
      "3 ,loss:1.889436   landa:0.000003   tr_acc:0.384612   vl_acc:0.388000   lr:0.823702\n",
      "4 ,loss:2.279842   landa:0.000001   tr_acc:0.292122   vl_acc:0.293000   lr:0.113154\n",
      "5 ,loss:2.068623   landa:0.000001   tr_acc:0.364102   vl_acc:0.367000   lr:0.559557\n",
      "6 ,loss:1.581507   landa:0.006619   tr_acc:0.494551   vl_acc:0.495000   lr:4.052716\n",
      "7 ,loss:1.487920   landa:0.000155   tr_acc:0.504347   vl_acc:0.504000   lr:5.357216\n",
      "8 ,loss:1.904739   landa:0.000091   tr_acc:0.382143   vl_acc:0.388000   lr:0.798611\n",
      "9 ,loss:2.233216   landa:0.003046   tr_acc:0.333531   vl_acc:0.313000   lr:0.314278\n"
     ]
    }
   ],
   "source": [
    "import neural_net\n",
    "for i in range(max_count):\n",
    "    nn = neural_net.TwoLayerNet(X_train_feats.shape[1],500,10,1e-2)\n",
    "    l,trh,vlh = nn.train(X_train_feats,ytr,X_val_feats,yvl,lrs[i],0.90,landas[i],500,200)\n",
    "    print(\"%d ,loss:%f   landa:%f   tr_acc:%f   vl_acc:%f   lr:%f\" % (i,l,landas[i],trh,vlh,lrs[i]))"
   ]
  },
  {
   "cell_type": "code",
   "execution_count": 106,
   "metadata": {},
   "outputs": [
    {
     "name": "stdout",
     "output_type": "stream",
     "text": [
      "99,loss:1.375307   tr:0.499286    vl:0.489000\n",
      "199,loss:1.463260   tr:0.499245    vl:0.489000\n",
      "299,loss:1.415064   tr:0.499245    vl:0.489000\n",
      "399,loss:1.474078   tr:0.499245    vl:0.489000\n",
      "499,loss:1.492695   tr:0.499245    vl:0.489000\n",
      "599,loss:1.357911   tr:0.499245    vl:0.489000\n",
      "699,loss:1.417949   tr:0.499245    vl:0.489000\n",
      "799,loss:1.486027   tr:0.499245    vl:0.489000\n",
      "899,loss:1.381700   tr:0.499245    vl:0.489000\n",
      "999,loss:1.374493   tr:0.499245    vl:0.489000\n"
     ]
    },
    {
     "data": {
      "image/png": "[encoded data removed]",
      "text/plain": [
       "<Figure size 432x288 with 2 Axes>"
      ]
     },
     "metadata": {
      "needs_background": "light"
     },
     "output_type": "display_data"
    }
   ],
   "source": [
    "#train(self,Xtr,ytr,Xvl,yvl,lr=1e-3,lr_decay=0.95,landa=1e-5,num_iters=100,batch_size=200,)\n",
    "net = neural_net.TwoLayerNet(X_train_feats.shape[1],500,10,1e-2)\n",
    "stats = net.train(X_train_feats,ytr,X_val_feats,yvl,5.357216,0.9,1e-4,1000,300) \n",
    "plt.subplot(121)\n",
    "plt.plot(stats['loss_hist'])\n",
    "plt.subplot(122)\n",
    "plt.plot(stats['tr_acc_hist'])\n",
    "plt.show()\n"
   ]
  },
  {
   "cell_type": "code",
   "execution_count": 94,
   "metadata": {},
   "outputs": [
    {
     "data": {
      "text/plain": [
       "0.313"
      ]
     },
     "execution_count": 94,
     "metadata": {},
     "output_type": "execute_result"
    }
   ],
   "source": [
    "y_pred = nn.predict(X_test_feats)\n",
    "np.mean(y_pred == yte)"
   ]
  }
 ],
 "metadata": {
  "kernelspec": {
   "display_name": "Python 3",
   "language": "python",
   "name": "python3"
  },
  "language_info": {
   "codemirror_mode": {
    "name": "ipython",
    "version": 3
   },
   "file_extension": ".py",
   "mimetype": "text/x-python",
   "name": "python",
   "nbconvert_exporter": "python",
   "pygments_lexer": "ipython3",
   "version": "3.7.4"
  }
 },
 "nbformat": 4,
 "nbformat_minor": 2
}
