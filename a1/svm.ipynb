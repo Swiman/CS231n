{
 "cells": [
  {
   "cell_type": "code",
   "execution_count": 1,
   "metadata": {},
   "outputs": [],
   "source": [
    "import numpy as np\n",
    "import matplotlib.pyplot as plt\n",
    "import load_cifar\n",
    "import random\n",
    "import svm\n",
    "\n",
    "%matplotlib inline\n",
    "%load_ext autoreload\n",
    "%autoreload 2"
   ]
  },
  {
   "cell_type": "code",
   "execution_count": 2,
   "metadata": {},
   "outputs": [],
   "source": [
    "dataset_dir = 'F:\\ML\\Winter-2016-CS231N-master\\Assignment1\\cs231n\\datasets\\cifar-10-batches-py'\n",
    "Xtr,ytr,Xte,yte = load_cifar.load(dataset_dir)"
   ]
  },
  {
   "cell_type": "code",
   "execution_count": 3,
   "metadata": {},
   "outputs": [
    {
     "name": "stdout",
     "output_type": "stream",
     "text": [
      "X_train shape: (49000, 32, 32, 3)\n",
      "Y_train shape: (49000,)\n",
      "X_test shape: (1000, 32, 32, 3)\n",
      "Y_test shape: (1000,)\n",
      "X_val shape: (1000, 32, 32, 3)\n",
      "Y_val shape: (1000,)\n",
      "X_dev shape: (500, 32, 32, 3)\n",
      "Y_dev shape: (500,)\n"
     ]
    }
   ],
   "source": [
    "num_train = 49000\n",
    "num_test = 1000\n",
    "num_val = 1000\n",
    "num_dev = 500  #this is used to check gardient,loss sanity\n",
    "\n",
    "Xvl = Xtr[num_train:]\n",
    "yvl = ytr[num_train:]\n",
    "\n",
    "Xtr = Xtr[:num_train]\n",
    "ytr = ytr[:num_train]\n",
    "\n",
    "Xte = Xte[:num_test]\n",
    "yte = yte[:num_test]\n",
    "\n",
    "r = np.random.choice(num_train,num_dev,replace = 'false')\n",
    "Xdv = Xtr[r] \n",
    "ydv = ytr[r]\n",
    "\n",
    "print ('X_train shape:',Xtr.shape)\n",
    "print ('Y_train shape:',ytr.shape)\n",
    "print ('X_test shape:',Xte.shape)\n",
    "print ('Y_test shape:',yte.shape)\n",
    "print ('X_val shape:',Xvl.shape)\n",
    "print ('Y_val shape:',yvl.shape)\n",
    "print ('X_dev shape:',Xdv.shape)\n",
    "print ('Y_dev shape:',ydv.shape)"
   ]
  },
  {
   "cell_type": "code",
   "execution_count": 4,
   "metadata": {},
   "outputs": [
    {
     "name": "stdout",
     "output_type": "stream",
     "text": [
      "X_train shape: (49000, 3072)\n",
      "X_test shape: (1000, 3072)\n",
      "X_val shape: (1000, 3072)\n",
      "X_dev shape: (500, 3072)\n"
     ]
    }
   ],
   "source": [
    "Xtr = Xtr.reshape(Xtr.shape[0],-1)\n",
    "Xte = Xte.reshape(Xte.shape[0],-1)\n",
    "Xdv = Xdv.reshape(Xdv.shape[0],-1)\n",
    "Xvl = Xvl.reshape(Xvl.shape[0],-1)\n",
    "\n",
    "print ('X_train shape:',Xtr.shape)\n",
    "print ('X_test shape:',Xte.shape)\n",
    "print ('X_val shape:',Xvl.shape)\n",
    "print ('X_dev shape:',Xdv.shape)\n"
   ]
  },
  {
   "cell_type": "code",
   "execution_count": 5,
   "metadata": {},
   "outputs": [
    {
     "data": {
      "text/plain": [
       "<matplotlib.image.AxesImage at 0x9a00004fc8>"
      ]
     },
     "execution_count": 5,
     "metadata": {},
     "output_type": "execute_result"
    },
    {
     "data": {
      "image/png": "[encoded data removed]",
      "text/plain": [
       "<Figure size 432x288 with 1 Axes>"
      ]
     },
     "metadata": {
      "needs_background": "light"
     },
     "output_type": "display_data"
    }
   ],
   "source": [
    "mean_pic = np.mean(Xtr,axis = 0)\n",
    "a = mean_pic.reshape(32,32,3).astype('int')\n",
    "plt.imshow(a)"
   ]
  },
  {
   "cell_type": "code",
   "execution_count": 6,
   "metadata": {},
   "outputs": [],
   "source": [
    "Xtr -= mean_pic\n",
    "Xte -= mean_pic\n",
    "Xvl -= mean_pic\n",
    "Xdv -= mean_pic"
   ]
  },
  {
   "cell_type": "code",
   "execution_count": 7,
   "metadata": {},
   "outputs": [],
   "source": [
    "#bias trick\n",
    "Xtr = np.hstack((Xtr,np.ones((Xtr.shape[0],1))))\n",
    "Xdv = np.hstack((Xdv,np.ones((Xdv.shape[0],1))))\n",
    "Xvl = np.hstack((Xvl,np.ones((Xvl.shape[0],1))))\n",
    "Xte = np.hstack((Xte,np.ones((Xte.shape[0],1))))\n"
   ]
  },
  {
   "cell_type": "code",
   "execution_count": 8,
   "metadata": {},
   "outputs": [],
   "source": [
    "num_classes = 10\n",
    "W = np.random.randn(Xtr.shape[1],num_classes) / np.sqrt(Xtr.shape[1]/2)\n",
    "loss , grad = svm.compute_loss(Xdv,ydv,W,1e-3)"
   ]
  },
  {
   "cell_type": "code",
   "execution_count": 9,
   "metadata": {},
   "outputs": [
    {
     "data": {
      "image/png": "[encoded data removed]",
      "text/plain": [
       "<Figure size 432x288 with 1 Axes>"
      ]
     },
     "metadata": {
      "needs_background": "light"
     },
     "output_type": "display_data"
    },
    {
     "data": {
      "text/plain": [
       "5.483590393253794"
      ]
     },
     "execution_count": 9,
     "metadata": {},
     "output_type": "execute_result"
    }
   ],
   "source": [
    "weight,loss_history = svm.train(Xtr,ytr,200,5e4,1e-7 ,1500)\n",
    "#def train(X, y, batch_size, landa, lr, epochs):\n",
    "plt.plot(np.arange(len(loss_history)),loss_history)\n",
    "plt.show()\n",
    "loss_history[-1]"
   ]
  },
  {
   "cell_type": "code",
   "execution_count": 10,
   "metadata": {},
   "outputs": [
    {
     "data": {
      "text/plain": [
       "0.37151020408163266"
      ]
     },
     "execution_count": 10,
     "metadata": {},
     "output_type": "execute_result"
    }
   ],
   "source": [
    "acc = svm.predict(Xtr,ytr,weight)\n",
    "acc"
   ]
  },
  {
   "cell_type": "code",
   "execution_count": null,
   "metadata": {},
   "outputs": [
    {
     "name": "stdout",
     "output_type": "stream",
     "text": [
      "lr: 1e-07  landa: 10000.0  vl_acc: 0.395  tr_acc: 0.3925918367346939\n",
      "lr: 1e-07  landa: 11000.0  vl_acc: 0.391  tr_acc: 0.39102040816326533\n",
      "lr: 1e-07  landa: 12000.0  vl_acc: 0.387  tr_acc: 0.3899591836734694\n",
      "lr: 1e-07  landa: 13000.0  vl_acc: 0.392  tr_acc: 0.3856530612244898\n",
      "lr: 1e-07  landa: 14000.0  vl_acc: 0.388  tr_acc: 0.38902040816326533\n",
      "lr: 1e-07  landa: 15000.0  vl_acc: 0.388  tr_acc: 0.3862040816326531\n",
      "lr: 1e-07  landa: 16000.0  vl_acc: 0.387  tr_acc: 0.3881428571428571\n",
      "lr: 1e-07  landa: 17000.0  vl_acc: 0.391  tr_acc: 0.38481632653061226\n",
      "lr: 1e-07  landa: 18000.0  vl_acc: 0.395  tr_acc: 0.38902040816326533\n",
      "lr: 1e-07  landa: 19000.0  vl_acc: 0.393  tr_acc: 0.39153061224489794\n",
      "lr: 1e-07  landa: 20000.0  vl_acc: 0.399  tr_acc: 0.3826938775510204\n",
      "lr: 1e-07  landa: 21000.0  vl_acc: 0.384  tr_acc: 0.3807755102040816\n",
      "lr: 1e-07  landa: 22000.0  vl_acc: 0.382  tr_acc: 0.3798367346938776\n",
      "lr: 1e-07  landa: 23000.0  vl_acc: 0.38  tr_acc: 0.38051020408163266\n",
      "lr: 1e-07  landa: 24000.0  vl_acc: 0.378  tr_acc: 0.3836122448979592\n",
      "lr: 1e-07  landa: 25000.0  vl_acc: 0.387  tr_acc: 0.37957142857142856\n",
      "lr: 1e-07  landa: 26000.0  vl_acc: 0.384  tr_acc: 0.38220408163265307\n",
      "lr: 1e-07  landa: 27000.0  vl_acc: 0.377  tr_acc: 0.3773469387755102\n",
      "lr: 1e-07  landa: 28000.0  vl_acc: 0.391  tr_acc: 0.3820612244897959\n",
      "lr: 1e-07  landa: 29000.0  vl_acc: 0.385  tr_acc: 0.37504081632653063\n",
      "lr: 1e-07  landa: 30000.0  vl_acc: 0.375  tr_acc: 0.3745918367346939\n",
      "lr: 1e-07  landa: 31000.0  vl_acc: 0.372  tr_acc: 0.37604081632653064\n",
      "lr: 1e-07  landa: 32000.0  vl_acc: 0.386  tr_acc: 0.3766938775510204\n",
      "lr: 1e-07  landa: 33000.0  vl_acc: 0.379  tr_acc: 0.3720612244897959\n",
      "lr: 1e-07  landa: 34000.0  vl_acc: 0.383  tr_acc: 0.37426530612244896\n",
      "lr: 1e-07  landa: 35000.0  vl_acc: 0.391  tr_acc: 0.37516326530612243\n",
      "lr: 1e-07  landa: 36000.0  vl_acc: 0.383  tr_acc: 0.36257142857142854\n",
      "lr: 1e-07  landa: 37000.0  vl_acc: 0.391  tr_acc: 0.3705510204081633\n",
      "lr: 1e-07  landa: 38000.0  vl_acc: 0.372  tr_acc: 0.3780612244897959\n",
      "lr: 1e-07  landa: 39000.0  vl_acc: 0.382  tr_acc: 0.37514285714285717\n",
      "lr: 1e-07  landa: 40000.0  vl_acc: 0.381  tr_acc: 0.374530612244898\n",
      "lr: 1e-07  landa: 41000.0  vl_acc: 0.387  tr_acc: 0.3732244897959184\n",
      "lr: 1e-07  landa: 42000.0  vl_acc: 0.401  tr_acc: 0.37053061224489797\n",
      "lr: 1e-07  landa: 43000.0  vl_acc: 0.382  tr_acc: 0.37548979591836734\n",
      "lr: 1e-07  landa: 44000.0  vl_acc: 0.392  tr_acc: 0.37444897959183676\n",
      "lr: 1e-07  landa: 45000.0  vl_acc: 0.372  tr_acc: 0.37204081632653063\n",
      "lr: 1e-07  landa: 46000.0  vl_acc: 0.383  tr_acc: 0.3679795918367347\n",
      "lr: 1e-07  landa: 47000.0  vl_acc: 0.365  tr_acc: 0.3651020408163265\n",
      "lr: 1e-07  landa: 48000.0  vl_acc: 0.375  tr_acc: 0.37273469387755104\n",
      "lr: 1e-07  landa: 49000.0  vl_acc: 0.38  tr_acc: 0.36904081632653063\n",
      "lr: 1e-06  landa: 10000.0  vl_acc: 0.363  tr_acc: 0.348265306122449\n",
      "lr: 1e-06  landa: 11000.0  vl_acc: 0.336  tr_acc: 0.3272244897959184\n",
      "lr: 1e-06  landa: 12000.0  vl_acc: 0.3  tr_acc: 0.29559183673469386\n",
      "lr: 1e-06  landa: 13000.0  vl_acc: 0.32  tr_acc: 0.3096326530612245\n",
      "lr: 1e-06  landa: 14000.0  vl_acc: 0.346  tr_acc: 0.35216326530612246\n",
      "lr: 1e-06  landa: 15000.0  vl_acc: 0.307  tr_acc: 0.3212857142857143\n",
      "lr: 1e-06  landa: 16000.0  vl_acc: 0.364  tr_acc: 0.3612448979591837\n",
      "lr: 1e-06  landa: 17000.0  vl_acc: 0.315  tr_acc: 0.3106938775510204\n",
      "lr: 1e-06  landa: 18000.0  vl_acc: 0.329  tr_acc: 0.3218367346938775\n",
      "lr: 1e-06  landa: 19000.0  vl_acc: 0.309  tr_acc: 0.2927959183673469\n",
      "lr: 1e-06  landa: 20000.0  vl_acc: 0.326  tr_acc: 0.31957142857142856\n",
      "lr: 1e-06  landa: 21000.0  vl_acc: 0.331  tr_acc: 0.3190204081632653\n",
      "lr: 1e-06  landa: 22000.0  vl_acc: 0.285  tr_acc: 0.2976530612244898\n",
      "lr: 1e-06  landa: 23000.0  vl_acc: 0.337  tr_acc: 0.32746938775510204\n",
      "lr: 1e-06  landa: 24000.0  vl_acc: 0.29  tr_acc: 0.3139183673469388\n",
      "lr: 1e-06  landa: 25000.0  vl_acc: 0.322  tr_acc: 0.29848979591836733\n",
      "lr: 1e-06  landa: 26000.0  vl_acc: 0.31  tr_acc: 0.29883673469387756\n",
      "lr: 1e-06  landa: 27000.0  vl_acc: 0.312  tr_acc: 0.2989183673469388\n"
     ]
    }
   ],
   "source": [
    "lrs = [1e-7,1e-6]\n",
    "landas =[(j+0.1*i)*1e4 for j in range(1,5) for i in range(0,10)]\n",
    "best_acc = 0\n",
    "best_w = 0\n",
    "for i in lrs:\n",
    "    for j in landas:\n",
    "        weight,loss_history = svm.train(Xtr,ytr,200,j,i ,1500)\n",
    "        tr_acc = svm.predict(Xtr,ytr,weight)\n",
    "        vl_acc = svm.predict(Xvl,yvl,weight)\n",
    "        print ('lr:',i,' landa:',j,' vl_acc:',vl_acc,' tr_acc:',tr_acc)\n",
    "        if vl_acc > best_acc:\n",
    "            best_acc = vl_acc\n",
    "            best_w = weight\n",
    "\n",
    "            "
   ]
  },
  {
   "cell_type": "code",
   "execution_count": null,
   "metadata": {},
   "outputs": [],
   "source": [
    "Xte\n",
    "test_acc = svm.predict(Xte,yte,best_w)\n",
    "test_acc"
   ]
  },
  {
   "cell_type": "code",
   "execution_count": null,
   "metadata": {},
   "outputs": [],
   "source": [
    "classes = ['plane', 'car', 'bird', 'cat', 'deer', 'dog', 'frog', 'horse', 'ship', 'truck']\n",
    "final_w = best_w\n",
    "final_w = final_w[:-1,:]\n",
    "w_max ,w_min = np.max(final_w),np.min(final_w)\n",
    "for i in range(final_w.shape[1]):\n",
    "    v = (255.0 * ((final_w[:,i]-w_min)/(w_max-w_min))).reshape(32,32,3)\n",
    "    plt.subplot(2,5,i+1)\n",
    "    plt.title(classes[i])\n",
    "    plt.axis('off')\n",
    "    plt.imshow(v.astype('uint8'))"
   ]
  },
  {
   "cell_type": "code",
   "execution_count": null,
   "metadata": {},
   "outputs": [],
   "source": [
    "a = np.arange(3)\n"
   ]
  }
 ],
 "metadata": {
  "kernelspec": {
   "display_name": "Python 3",
   "language": "python",
   "name": "python3"
  },
  "language_info": {
   "codemirror_mode": {
    "name": "ipython",
    "version": 3
   },
   "file_extension": ".py",
   "mimetype": "text/x-python",
   "name": "python",
   "nbconvert_exporter": "python",
   "pygments_lexer": "ipython3",
   "version": "3.7.4"
  }
 },
 "nbformat": 4,
 "nbformat_minor": 2
}
